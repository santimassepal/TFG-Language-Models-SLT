{
 "cells": [
  {
   "cell_type": "code",
   "execution_count": 22,
   "id": "81424ba0",
   "metadata": {},
   "outputs": [],
   "source": [
    "#Worst score == 0.00\n",
    "#Understandable-Good Translations 0.3-0.4\n",
    "#High quality translations 0.4-0.5\n",
    "#Very high quality translations 0.5-0.6\n",
    "#Better than human translations >0.6\n",
    "#Perfect score == 1.00"
   ]
  },
  {
   "cell_type": "code",
   "execution_count": 23,
   "id": "24f78956",
   "metadata": {},
   "outputs": [],
   "source": [
    "_candidates = \"output.csv\"\n",
    "_references = \"file_1.txt\""
   ]
  },
  {
   "cell_type": "code",
   "execution_count": 24,
   "id": "c8790f7c",
   "metadata": {},
   "outputs": [
    {
     "name": "stdout",
     "output_type": "stream",
     "text": [
      "BLEU score: 0.34\n"
     ]
    }
   ],
   "source": [
    "import csv\n",
    "from nltk.translate.bleu_score import corpus_bleu\n",
    "\n",
    "# Function to tokenize a sentence\n",
    "def tokenize(sentence):\n",
    "    return sentence.strip().split()\n",
    "\n",
    "# Read candidate translations from a CSV file\n",
    "candidates = []\n",
    "with open(_candidates, 'r', encoding = \"utf-8\") as csvfile:\n",
    "    reader = csv.reader(csvfile)\n",
    "    for row in reader:\n",
    "        row.replace(\"<EOS>\",\"\")\n",
    "        candidate = tokenize(row[0])\n",
    "        candidates.append(candidate)\n",
    "\n",
    "# Read reference translations from a CSV file\n",
    "references = []\n",
    "with open(_references, 'r', encoding = \"utf-8\") as csvfile:\n",
    "    reader = csv.reader(csvfile)\n",
    "    for row in reader:\n",
    "        ref_translations = [tokenize(ref) for ref in row[0].split('|||')]\n",
    "        references.append(ref_translations)\n",
    "\n",
    "        \n",
    "# Compute the BLEU score\n",
    "bleu = corpus_bleu(references, candidates)\n",
    "print(f\"BLEU score: {bleu:.2f}\")"
   ]
  },
  {
   "cell_type": "code",
   "execution_count": null,
   "id": "45e37620",
   "metadata": {},
   "outputs": [],
   "source": []
  }
 ],
 "metadata": {
  "kernelspec": {
   "display_name": "Python 3 (ipykernel)",
   "language": "python",
   "name": "python3"
  },
  "language_info": {
   "codemirror_mode": {
    "name": "ipython",
    "version": 3
   },
   "file_extension": ".py",
   "mimetype": "text/x-python",
   "name": "python",
   "nbconvert_exporter": "python",
   "pygments_lexer": "ipython3",
   "version": "3.9.13"
  }
 },
 "nbformat": 4,
 "nbformat_minor": 5
}
