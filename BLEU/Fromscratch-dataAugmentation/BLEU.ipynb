{
 "cells": [
  {
   "cell_type": "code",
   "execution_count": 1,
   "id": "81424ba0",
   "metadata": {},
   "outputs": [],
   "source": [
    "#Worst score == 0.00\n",
    "#Understandable-Good Translations 0.3-0.4\n",
    "#High quality translations 0.4-0.5\n",
    "#Very high quality translations 0.5-0.6\n",
    "#Better than human translations >0.6\n",
    "#Perfect score == 1.00"
   ]
  },
  {
   "cell_type": "code",
   "execution_count": 2,
   "id": "24f78956",
   "metadata": {},
   "outputs": [],
   "source": [
    "_candidates = \"output.csv\"\n",
    "_references = \"file_1.txt\""
   ]
  },
  {
   "cell_type": "code",
   "execution_count": 3,
   "id": "c8790f7c",
   "metadata": {},
   "outputs": [
    {
     "ename": "ValueError",
     "evalue": "list.remove(x): x not in list",
     "output_type": "error",
     "traceback": [
      "\u001b[1;31m---------------------------------------------------------------------------\u001b[0m",
      "\u001b[1;31mValueError\u001b[0m                                Traceback (most recent call last)",
      "Cell \u001b[1;32mIn[3], line 23\u001b[0m\n\u001b[0;32m     21\u001b[0m         ref_translations \u001b[38;5;241m=\u001b[39m [tokenize(ref) \u001b[38;5;28;01mfor\u001b[39;00m ref \u001b[38;5;129;01min\u001b[39;00m row[\u001b[38;5;241m0\u001b[39m]\u001b[38;5;241m.\u001b[39msplit(\u001b[38;5;124m'\u001b[39m\u001b[38;5;124m|||\u001b[39m\u001b[38;5;124m'\u001b[39m)]\n\u001b[0;32m     22\u001b[0m         references\u001b[38;5;241m.\u001b[39mappend(ref_translations)\n\u001b[1;32m---> 23\u001b[0m \u001b[43mreferences\u001b[49m\u001b[38;5;241;43m.\u001b[39;49m\u001b[43mremove\u001b[49m\u001b[43m(\u001b[49m\u001b[38;5;241;43m0\u001b[39;49m\u001b[43m)\u001b[49m\n\u001b[0;32m     25\u001b[0m \u001b[38;5;66;03m# Compute the BLEU score\u001b[39;00m\n\u001b[0;32m     26\u001b[0m bleu \u001b[38;5;241m=\u001b[39m corpus_bleu(references, candidates)\n",
      "\u001b[1;31mValueError\u001b[0m: list.remove(x): x not in list"
     ]
    }
   ],
   "source": [
    "import csv\n",
    "from nltk.translate.bleu_score import corpus_bleu\n",
    "\n",
    "# Function to tokenize a sentence\n",
    "def tokenize(sentence):\n",
    "    return sentence.strip().split()\n",
    "\n",
    "# Read candidate translations from a CSV file\n",
    "candidates = []\n",
    "with open(_candidates, 'r', encoding = \"utf-8\") as csvfile:\n",
    "    reader = csv.reader(csvfile)\n",
    "    for row in reader:\n",
    "        candidate = tokenize(row[0].replace(\"<EOS>\",\"\"))\n",
    "        candidates.append(candidate)\n",
    "\n",
    "# Read reference translations from a CSV file\n",
    "references = []\n",
    "with open(_references, 'r', encoding = \"utf-8\") as csvfile:\n",
    "    reader = csv.reader(csvfile)\n",
    "    for row in reader:\n",
    "        ref_translations = [tokenize(ref) for ref in row[0].split('|||')]\n",
    "        references.append(ref_translations)\n",
    "references.remove(\"Seq2Seq20eng\")\n",
    "        \n",
    "# Compute the BLEU score\n",
    "bleu = corpus_bleu(references, candidates)\n",
    "print(f\"BLEU score: {bleu:.2f}\")"
   ]
  },
  {
   "cell_type": "code",
   "execution_count": null,
   "id": "45e37620",
   "metadata": {},
   "outputs": [],
   "source": []
  }
 ],
 "metadata": {
  "kernelspec": {
   "display_name": "Python 3 (ipykernel)",
   "language": "python",
   "name": "python3"
  },
  "language_info": {
   "codemirror_mode": {
    "name": "ipython",
    "version": 3
   },
   "file_extension": ".py",
   "mimetype": "text/x-python",
   "name": "python",
   "nbconvert_exporter": "python",
   "pygments_lexer": "ipython3",
   "version": "3.9.13"
  }
 },
 "nbformat": 4,
 "nbformat_minor": 5
}
